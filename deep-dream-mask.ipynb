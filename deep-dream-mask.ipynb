{
 "cells": [
  {
   "cell_type": "markdown",
   "metadata": {},
   "source": [
    "## Setup"
   ]
  },
  {
   "cell_type": "code",
   "execution_count": 2,
   "metadata": {
    "collapsed": false
   },
   "outputs": [],
   "source": [
    "# boilerplate code\n",
    "import os\n",
    "from io import BytesIO\n",
    "import numpy as np\n",
    "import time\n",
    "import PIL.Image\n",
    "from IPython.display import clear_output, Image, display\n",
    "from __future__ import print_function, division\n",
    "\n",
    "import tensorflow as tf\n",
    "\n",
    "model_fn = 'tensorflow_inception_graph.pb'\n",
    "\n",
    "# creating TensorFlow session and loading the model\n",
    "graph = tf.Graph()\n",
    "sess = tf.InteractiveSession(graph=graph)\n",
    "\n",
    "with tf.gfile.FastGFile(model_fn, 'rb') as f:\n",
    "    # create an empty GraphDef object; this is the object we'll populate w/ data from the file\n",
    "    graph_def = tf.GraphDef()\n",
    "    # read binary data (different protocol for textual GraphDef objects); graph_def now contains\n",
    "    # operations to be imported into the default graph\n",
    "    graph_def.ParseFromString(f.read())\n",
    "    \n",
    "# define the input tensor\n",
    "t_input = tf.placeholder(np.float32, name='input') \n",
    "# ?\n",
    "imagenet_mean = 117.0\n",
    "# subtract mean from all input data\n",
    "t_preprocessed = tf.expand_dims(t_input-imagenet_mean, 0)\n",
    "# import graph_def into the Python Graph; second argument is dictionary mapping input names in\n",
    "# graph_def to Tensor objects\n",
    "tf.import_graph_def(graph_def, {'input':t_preprocessed})"
   ]
  },
  {
   "cell_type": "markdown",
   "metadata": {},
   "source": [
    "## Helper Functions"
   ]
  },
  {
   "cell_type": "code",
   "execution_count": 3,
   "metadata": {
    "collapsed": true
   },
   "outputs": [],
   "source": [
    "# start with a gray image with a little noise\n",
    "img_noise = np.random.uniform(size=(224,224,3)) + 100.0\n",
    "\n",
    "def showarray(a, fmt='jpeg'):\n",
    "    a = np.uint8(np.clip(a, 0, 1)*255)\n",
    "    # create an empty (?) file object\n",
    "    f = BytesIO()\n",
    "    # save array to file object\n",
    "    PIL.Image.fromarray(a).save(f, fmt)\n",
    "    display(Image(data=f.getvalue()))\n",
    "\n",
    "def T(layer):\n",
    "    '''Helper for getting layer output tensor'''\n",
    "    return graph.get_tensor_by_name(\"%s:0\"%layer)\n",
    "\n",
    "# Helper functions that use TF to resize an image\n",
    "def tffunc(*argtypes):\n",
    "    '''Helper that transforms TF-graph generating function into a regular one.\n",
    "    See \"resize\" function below.\n",
    "    '''\n",
    "    placeholders = list(map(tf.placeholder, argtypes))\n",
    "    def wrap(f):\n",
    "        out = f(*placeholders)\n",
    "        def wrapper(*args, **kw):\n",
    "            return out.eval(dict(zip(placeholders, args)), session=kw.get('session'))\n",
    "        return wrapper\n",
    "    return wrap\n",
    "\n",
    "def resize(img, size):\n",
    "    img = tf.expand_dims(img, 0)\n",
    "    return tf.image.resize_bilinear(img, size)[0,:,:,:]\n",
    "resize = tffunc(np.float32, np.int32)(resize)\n",
    "\n",
    "def calc_grad_tiled(img, t_grad, tile_size=512):\n",
    "    '''Compute the value of tensor t_grad over the image in a tiled way.\n",
    "    Random shifts are applied to the image to blur tile boundaries over \n",
    "    multiple iterations.'''\n",
    "    sz = tile_size\n",
    "    h, w = img.shape[:2]\n",
    "    sx, sy = np.random.randint(sz, size=2)\n",
    "    img_shift = np.roll(np.roll(img, sx, 1), sy, 0)\n",
    "    grad = np.zeros_like(img)\n",
    "    for y in range(0, max(h-sz//2, sz),sz):\n",
    "        for x in range(0, max(w-sz//2, sz),sz):\n",
    "            sub = img_shift[y:y+sz,x:x+sz]\n",
    "            g = sess.run(t_grad, {t_input:sub})\n",
    "            grad[y:y+sz,x:x+sz] = g\n",
    "    return np.roll(np.roll(grad, -sx, 1), -sy, 0)"
   ]
  },
  {
   "cell_type": "markdown",
   "metadata": {},
   "source": [
    "## Deep Dream"
   ]
  },
  {
   "cell_type": "code",
   "execution_count": 4,
   "metadata": {
    "collapsed": false
   },
   "outputs": [],
   "source": [
    "def render_deepdream(t_obj, img, mask, disp=True,\n",
    "                     iter_n=10, step=1.5, octave_n=4, octave_scale=1.4):\n",
    "    \n",
    "    # make sure t_obj and mask dims match\n",
    "    assert (mask.shape[:2] == img.shape[:2]), \"Mask and image do not share same dimensions\"\n",
    "    \n",
    "    t_score = tf.reduce_mean(t_obj) # defining the optimization objective\n",
    "    t_grad = tf.gradients(t_score, t_input)[0] # behold the power of automatic differentiation!\n",
    "\n",
    "    # split the image and mask into a number of octaves\n",
    "    octaves = []\n",
    "    octaves_mask = []\n",
    "    \n",
    "    if disp:\n",
    "        print(\"Splitting image into octaves ...\")\n",
    "        \n",
    "    for i in range(octave_n-1):\n",
    "        \n",
    "        # image\n",
    "        hw = img.shape[:2]\n",
    "        lo = resize(img, np.int32(np.float32(hw)/octave_scale))\n",
    "        hi = img-resize(lo, hw)\n",
    "        img = lo\n",
    "        octaves.append(hi)\n",
    "        \n",
    "        # mask\n",
    "        hw_mask = mask.shape[:2]\n",
    "        lo_mask = resize(mask, np.int32(np.float32(hw_mask)/octave_scale))\n",
    "        hi_mask = mask-resize(lo_mask, hw_mask)\n",
    "        mask = lo_mask\n",
    "        octaves_mask.append(hi_mask)\n",
    "    \n",
    "    # generate details octave by octave\n",
    "    for octave in range(octave_n):\n",
    "        if octave>0:\n",
    "            hi = octaves[-octave]\n",
    "            img = resize(img, hi.shape[:2])+hi\n",
    "            hi_mask = octaves_mask[-octave]\n",
    "            mask = resize(mask, hi_mask.shape[:2])+hi_mask\n",
    "        for i in range(iter_n):\n",
    "            g = calc_grad_tiled(img, t_grad)\n",
    "            img += np.multiply(mask/255, g) * (step / (np.abs(g).mean()+1e-7))\n",
    "            if disp:\n",
    "                print('.',end = ' ')\n",
    "\n",
    "        if disp:\n",
    "            clear_output()\n",
    "            showarray(img/255.0)\n",
    "        \n",
    "    return img"
   ]
  },
  {
   "cell_type": "code",
   "execution_count": 66,
   "metadata": {
    "collapsed": false
   },
   "outputs": [],
   "source": [
    "def render_deepdream_2masks(t_obj1, t_obj2, img, mask1, mask2, disp=True,\n",
    "                     iter_n=10, step=1.5, octave_n=4, octave_scale=1.4):\n",
    "    \n",
    "    # make sure t_obj and mask dims match\n",
    "    assert (mask1.shape[:2] == img.shape[:2]), \"Mask and image do not share same dimensions\"\n",
    "    assert (mask2.shape[:2] == img.shape[:2]), \"Mask and image do not share same dimensions\"\n",
    "    \n",
    "    t_score1 = tf.reduce_mean(t_obj1) # defining the optimization objectives\n",
    "    t_score2 = tf.reduce_mean(t_obj2) # defining the optimization objectives\n",
    "    t_grad1 = tf.gradients(t_score1, t_input)[0] # behold the power of automatic differentiation!\n",
    "    t_grad2 = tf.gradients(t_score2, t_input)[0] # behold the power of automatic differentiation!\n",
    "\n",
    "    # split the image and mask into a number of octaves\n",
    "    octaves = []\n",
    "    octaves_mask1 = []\n",
    "    octaves_mask2 = []\n",
    "    \n",
    "    if disp:\n",
    "        print(\"Splitting image into octaves ...\")\n",
    "        \n",
    "    for i in range(octave_n-1):\n",
    "        \n",
    "        # image\n",
    "        hw = img.shape[:2]\n",
    "        lo = resize(img, np.int32(np.float32(hw)/octave_scale))\n",
    "        hi = img-resize(lo, hw)\n",
    "        img = lo\n",
    "        octaves.append(hi)\n",
    "        \n",
    "        # mask1\n",
    "        hw_mask1 = mask1.shape[:2]\n",
    "        lo_mask1 = resize(mask1, np.int32(np.float32(hw_mask1)/octave_scale))\n",
    "        hi_mask1 = mask1-resize(lo_mask1, hw_mask1)\n",
    "        mask1 = lo_mask1\n",
    "        octaves_mask1.append(hi_mask1)\n",
    "\n",
    "        # mask2\n",
    "        hw_mask2 = mask2.shape[:2]\n",
    "        lo_mask2 = resize(mask2, np.int32(np.float32(hw_mask2)/octave_scale))\n",
    "        hi_mask2 = mask2-resize(lo_mask2, hw_mask2)\n",
    "        mask2 = lo_mask2\n",
    "        octaves_mask2.append(hi_mask2)\n",
    "\n",
    "    # generate details octave by octave\n",
    "    for octave in range(octave_n):\n",
    "        if octave>0:\n",
    "            hi = octaves[-octave]\n",
    "            img = resize(img, hi.shape[:2])+hi\n",
    "            hi_mask1 = octaves_mask1[-octave]\n",
    "            mask1 = resize(mask1, hi_mask1.shape[:2])+hi_mask1\n",
    "            hi_mask2 = octaves_mask2[-octave]\n",
    "            mask2 = resize(mask2, hi_mask2.shape[:2])+hi_mask2\n",
    "        for i in range(iter_n):\n",
    "            g1 = calc_grad_tiled(img, t_grad1)\n",
    "            g2 = calc_grad_tiled(img, t_grad2)\n",
    "            img += np.multiply(mask1/255, g1) * (step / (np.abs(g1).mean()+1e-7)) \\\n",
    "                    + np.multiply(mask2/255, g2) * (step / (np.abs(g2).mean()+1e-7))\n",
    "            if disp:\n",
    "                print('.',end = ' ')\n",
    "\n",
    "        if disp:\n",
    "            clear_output()\n",
    "            showarray(img/255.0)\n",
    "        \n",
    "    return img"
   ]
  },
  {
   "cell_type": "markdown",
   "metadata": {},
   "source": [
    "## Full Example"
   ]
  },
  {
   "cell_type": "code",
   "execution_count": 21,
   "metadata": {
    "collapsed": true
   },
   "outputs": [
    {
     "name": "stdout",
     "output_type": "stream",
     "text": [
      "Layer 1 OF 18\n",
      "\r",
      "Feature 001 of 024"
     ]
    },
    {
     "ename": "TypeError",
     "evalue": "render_deepdream() takes at least 3 arguments (5 given)",
     "output_type": "error",
     "traceback": [
      "\u001b[1;31m---------------------------------------------------------------------------\u001b[0m",
      "\u001b[1;31mTypeError\u001b[0m                                 Traceback (most recent call last)",
      "\u001b[1;32m<ipython-input-21-52e89136184c>\u001b[0m in \u001b[0;36m<module>\u001b[1;34m()\u001b[0m\n\u001b[0;32m     43\u001b[0m \u001b[1;33m\u001b[0m\u001b[0m\n\u001b[0;32m     44\u001b[0m         \u001b[1;31m# run deep dream; more iterations intensifies features, more octaves increases their size\u001b[0m\u001b[1;33m\u001b[0m\u001b[1;33m\u001b[0m\u001b[0m\n\u001b[1;32m---> 45\u001b[1;33m         \u001b[0mimg\u001b[0m \u001b[1;33m=\u001b[0m \u001b[0mrender_deepdream\u001b[0m\u001b[1;33m(\u001b[0m\u001b[0mT\u001b[0m\u001b[1;33m(\u001b[0m\u001b[0mlayer\u001b[0m\u001b[1;33m)\u001b[0m\u001b[1;33m[\u001b[0m\u001b[1;33m:\u001b[0m\u001b[1;33m,\u001b[0m\u001b[1;33m:\u001b[0m\u001b[1;33m,\u001b[0m\u001b[1;33m:\u001b[0m\u001b[1;33m,\u001b[0m\u001b[0mfeature_num\u001b[0m\u001b[1;33m]\u001b[0m\u001b[1;33m,\u001b[0m \u001b[0mimg0\u001b[0m\u001b[1;33m,\u001b[0m \u001b[0miter_n\u001b[0m\u001b[1;33m=\u001b[0m\u001b[1;36m20\u001b[0m\u001b[1;33m,\u001b[0m \u001b[0moctave_n\u001b[0m\u001b[1;33m=\u001b[0m\u001b[1;36m4\u001b[0m\u001b[1;33m,\u001b[0m \u001b[0mdisp\u001b[0m\u001b[1;33m=\u001b[0m\u001b[0mFalse\u001b[0m\u001b[1;33m)\u001b[0m\u001b[1;33m\u001b[0m\u001b[0m\n\u001b[0m\u001b[0;32m     46\u001b[0m         \u001b[0mimg\u001b[0m \u001b[1;33m=\u001b[0m \u001b[0mnp\u001b[0m\u001b[1;33m.\u001b[0m\u001b[0muint8\u001b[0m\u001b[1;33m(\u001b[0m\u001b[0mnp\u001b[0m\u001b[1;33m.\u001b[0m\u001b[0mclip\u001b[0m\u001b[1;33m(\u001b[0m\u001b[0mimg\u001b[0m\u001b[1;33m,\u001b[0m \u001b[1;36m0\u001b[0m\u001b[1;33m,\u001b[0m \u001b[1;36m255\u001b[0m\u001b[1;33m)\u001b[0m\u001b[1;33m)\u001b[0m\u001b[1;33m\u001b[0m\u001b[0m\n\u001b[0;32m     47\u001b[0m \u001b[1;33m\u001b[0m\u001b[0m\n",
      "\u001b[1;31mTypeError\u001b[0m: render_deepdream() takes at least 3 arguments (5 given)"
     ]
    }
   ],
   "source": [
    "# import image\n",
    "img = PIL.Image.open('/home/mattw/Dropbox/deep-dream/trees/osa_island.jpg')\n",
    "img = np.float32(img)\n",
    "# showarray(img/255.0)\n",
    "\n",
    "# for exporting\n",
    "dir_path = '/home/mattw/results/deep-dream/trees/osa_island'\n",
    "\n",
    "# get network info\n",
    "layers = [op.name for op in graph.get_operations() if op.type=='Conv2D' and 'import/' in op.name]\n",
    "features = [int(graph.get_tensor_by_name(name+':0').get_shape()[-1]) for name in layers]\n",
    "\n",
    "# loop over selected layers\n",
    "# layer_nums = [1]\n",
    "layer_nums = range(24, len(layers), 2)\n",
    "layer_counter = 0\n",
    "start = time.time()\n",
    "for layer_num in layer_nums:\n",
    "\n",
    "    # get string for saving\n",
    "    layer_folder = 'layer_%03i' % layer_num\n",
    "    folder_path = '/'.join([dir_path, layer_folder])\n",
    "    if not os.path.isdir(folder_path):\n",
    "        os.mkdir(folder_path)\n",
    "    \n",
    "    # use string to get layer output by name\n",
    "    layer = layers[layer_num] \n",
    "    \n",
    "    # loop over selected features\n",
    "    feature_nums = [3, 6, 9]\n",
    "    feature_nums = range(0, features[layer_num])\n",
    "    \n",
    "    # print updates\n",
    "    layer_counter += 1\n",
    "    print(\"Layer %i OF %i\" % (layer_counter, len(layer_nums)))\n",
    "    \n",
    "    feature_counter = 0\n",
    "    for feature_num in feature_nums:\n",
    "\n",
    "        # print updates\n",
    "        feature_counter += 1\n",
    "        print(\"\\rFeature %03i of %03i\" % (feature_counter, len(feature_nums)), end=\"\")\n",
    "        \n",
    "        # run deep dream; more iterations intensifies features, more octaves increases their size\n",
    "        img = render_deepdream(T(layer)[:,:,:,feature_num], img0, iter_n=20, octave_n=4, disp=False)\n",
    "        img = np.uint8(np.clip(img, 0, 255))\n",
    "        \n",
    "        # save output\n",
    "        feature_name = \"layer_%02i_feature_%03i.jpg\" % (layer_num, feature_num)\n",
    "        file_path = '/'.join([dir_path, layer_folder, feature_name])\n",
    "        PIL.Image.fromarray(img).save(file_path, 'jpeg')\n",
    "        \n",
    "    print(\"\\n\")\n",
    "    \n",
    "end = time.time()\n",
    "print(\"Total Elapsed Time: %i hours\" % ((end-start)/3600))"
   ]
  },
  {
   "cell_type": "markdown",
   "metadata": {},
   "source": [
    "## Single Mask Example"
   ]
  },
  {
   "cell_type": "code",
   "execution_count": 93,
   "metadata": {
    "collapsed": false,
    "scrolled": false
   },
   "outputs": [
    {
     "data": {
      "image/jpeg": "[encoded data removed]",
      "text/plain": [
       "<IPython.core.display.Image object>"
      ]
     },
     "metadata": {},
     "output_type": "display_data"
    }
   ],
   "source": [
    "# get network info\n",
    "layers = [op.name for op in graph.get_operations() if op.type=='Conv2D' and 'import/' in op.name]\n",
    "features = [int(graph.get_tensor_by_name(name+':0').get_shape()[-1]) for name in layers]\n",
    "\n",
    "# import image\n",
    "# img = PIL.Image.open('/home/mattw/Dropbox/deep-dream/clouds/mountain_clouds/mountain_clouds_gimp_tunnel.JPG')\n",
    "img = PIL.Image.open('/home/mattw/Dropbox/deep-dream/clouds/mountain_clouds/mountain_clouds.JPG')\n",
    "img = np.float32(img)\n",
    "\n",
    "mask = PIL.Image.open('/home/mattw/Dropbox/deep-dream/clouds/mountain_clouds/mountain_clouds_CLOUD_mask2.JPG')\n",
    "mask2 = PIL.Image.open('/home/mattw/Dropbox/deep-dream/clouds/mountain_clouds/mountain_clouds_PEOPLE_mask2.JPG')\n",
    "# mask = PIL.Image.open('/home/mattw/Dropbox/deep-dream/clouds/mountain_clouds/mountain_clouds_RIDGE_mask.JPG')\n",
    "\n",
    "# for ridge\n",
    "# mask = np.float32(mask)\n",
    "\n",
    "# for sky\n",
    "mask = np.float32(mask)/255.0\n",
    "mask2 = np.float32(mask2)/255.0\n",
    "mask = np.multiply(mask, mask2)*255.0\n",
    "     \n",
    "layer = layers[28]\n",
    "feature_num = 56\n",
    "\n",
    "# run deep dream; more iterations intensifies features, more octaves increases their size\n",
    "# 22/101 - iter_n=100, octave_n=4\n",
    "img = render_deepdream(T(layer)[:,:,:,feature_num], img, mask, iter_n=40, octave_n=8)"
   ]
  },
  {
   "cell_type": "markdown",
   "metadata": {},
   "source": [
    "## Double Mask Example"
   ]
  },
  {
   "cell_type": "code",
   "execution_count": 98,
   "metadata": {
    "collapsed": false
   },
   "outputs": [
    {
     "data": {
      "image/jpeg": "[encoded data removed]",
      "text/plain": [
       "<IPython.core.display.Image object>"
      ]
     },
     "metadata": {},
     "output_type": "display_data"
    }
   ],
   "source": [
    "# get network info\n",
    "layers = [op.name for op in graph.get_operations() if op.type=='Conv2D' and 'import/' in op.name]\n",
    "features = [int(graph.get_tensor_by_name(name+':0').get_shape()[-1]) for name in layers]\n",
    "\n",
    "# import image\n",
    "# img = PIL.Image.open('/home/mattw/Dropbox/deep-dream/clouds/mountain_clouds/mountain_clouds.JPG')\n",
    "img = PIL.Image.open('/home/mattw/Dropbox/deep-dream/clouds/mountain_clouds/mountain_clouds_gimp_tunnel.JPG')\n",
    "img = np.float32(img)\n",
    "\n",
    "# import masks\n",
    "mask_a = PIL.Image.open('/home/mattw/Dropbox/deep-dream/clouds/mountain_clouds/mountain_clouds_RIDGE_mask.JPG')\n",
    "mask_b = PIL.Image.open('/home/mattw/Dropbox/deep-dream/clouds/mountain_clouds/mountain_clouds_CLOUD_mask.JPG')\n",
    "mask_c = PIL.Image.open('/home/mattw/Dropbox/deep-dream/clouds/mountain_clouds/mountain_clouds_PEOPLE_mask2.JPG')\n",
    "\n",
    "# for ridge\n",
    "layer1 = layers[4]\n",
    "feature_num1 = 19\n",
    "mask1 = np.float32(mask_a)\n",
    "\n",
    "# for sky\n",
    "layer2 = layers[14]\n",
    "feature_num2 = 55\n",
    "mask_b = np.float32(mask_b)/255.0\n",
    "mask_c = np.float32(mask_c)/255.0\n",
    "mask2 = np.multiply(mask_b, mask_b)*255.0\n",
    "\n",
    "# run deep dream; more iterations intensifies features, more octaves increases their size\n",
    "# 22/101 - iter_n=100, octave_n=4\n",
    "img = render_deepdream_2masks(0.1*T(layer1)[:,:,:,feature_num1], T(layer2)[:,:,:,feature_num2],\n",
    "                              img, \n",
    "                              mask1, mask2,\n",
    "                              iter_n=10, octave_n=10)"
   ]
  },
  {
   "cell_type": "code",
   "execution_count": 80,
   "metadata": {
    "collapsed": false
   },
   "outputs": [],
   "source": [
    "img = np.uint8(np.clip(img, 0, 255))\n",
    "PIL.Image.fromarray(img).save('/home/mattw/results/deep-dream/clouds/mountain_clouds/final/test_2.jpg', 'jpeg')"
   ]
  },
  {
   "cell_type": "code",
   "execution_count": 32,
   "metadata": {
    "collapsed": true
   },
   "outputs": [
    {
     "data": {
      "image/jpeg": "[encoded data removed]",
      "text/plain": [
       "<IPython.core.display.Image object>"
      ]
     },
     "metadata": {},
     "output_type": "display_data"
    },
    {
     "data": {
      "image/jpeg": "[encoded data removed]",
      "text/plain": [
       "<IPython.core.display.Image object>"
      ]
     },
     "metadata": {},
     "output_type": "display_data"
    },
    {
     "data": {
      "image/jpeg": "[encoded data removed]",
      "text/plain": [
       "<IPython.core.display.Image object>"
      ]
     },
     "metadata": {},
     "output_type": "display_data"
    }
   ],
   "source": [
    "mask = PIL.Image.open('/home/mattw/Dropbox/deep-dream/clouds/mountain_clouds/mountain_clouds_CLOUD_mask2.JPG')\n",
    "mask2 = PIL.Image.open('/home/mattw/Dropbox/deep-dream/clouds/mountain_clouds/mountain_clouds_PEOPLE_mask2.JPG')\n",
    "mask = np.float32(mask)/255.0\n",
    "mask2 = np.float32(mask2)/255.0\n",
    "mask3 = np.multiply(mask,mask2)*255.0\n",
    "showarray(mask)\n",
    "showarray(mask2)\n",
    "showarray(mask3/255.0)"
   ]
  },
  {
   "cell_type": "code",
   "execution_count": 22,
   "metadata": {
    "collapsed": false
   },
   "outputs": [
    {
     "data": {
      "text/plain": [
       "255.0"
      ]
     },
     "execution_count": 22,
     "metadata": {},
     "output_type": "execute_result"
    }
   ],
   "source": [
    "mask2[388,582,2]"
   ]
  },
  {
   "cell_type": "code",
   "execution_count": 18,
   "metadata": {
    "collapsed": false
   },
   "outputs": [
    {
     "data": {
      "text/plain": [
       "(389, 583, 3)"
      ]
     },
     "execution_count": 18,
     "metadata": {},
     "output_type": "execute_result"
    }
   ],
   "source": [
    "mask.shape"
   ]
  },
  {
   "cell_type": "markdown",
   "metadata": {},
   "source": [
    "## Notes\n",
    "### mountain_clouds\n",
    "- test_1: l28 f56; iter_n=40, octave_n=8\n",
    "- test_2: ridge l4 f19, sky l14 f55; iter_n=5, octave_n=8"
   ]
  },
  {
   "cell_type": "markdown",
   "metadata": {},
   "source": [
    "## Other Notes\n",
    "### Spotty\n",
    "- 08/022\n",
    "\n",
    "### Puzzle Pieces\n",
    "- 08/024\n",
    "- 10/090\n",
    "- 16/079\n",
    "- 22/081\n",
    "\n",
    "### Spindly/Spider Webs\n",
    "- 08/006\n",
    "- 10/000 (structural)\n",
    "- 10/044\n",
    "- 14/028\n",
    "- 14/043\n",
    "- 16/028\n",
    "- 20/030\n",
    "- 20/036\n",
    "- 20/037\n",
    "- 20/041\n",
    "- 22/065\n",
    "- 22/105\n",
    "- 28/043\n",
    "- 28/050\n",
    "- 28/108\n",
    "\n",
    "### Abstract Patterns\n",
    "- many in layer 4\n",
    "- 10/100\n",
    "- 14/038\n",
    "- 16/041\n",
    "- 16/089\n",
    "- 20/032\n",
    "- 20/052\n",
    "- 20/059\n",
    "- 20/063\n",
    "- 22/011\n",
    "- 22/037\n",
    "- 22/062\n",
    "- 22/078\n",
    "- 22/110\n",
    "- 24/014\n",
    "- 26/050\n",
    "- 26/063\n",
    "- 32/042\n",
    "- 34/055\n",
    "- 34/126\n",
    "- 44/092\n",
    "\n",
    "### Waves\n",
    "- 16/011\n",
    "- 16/013\n",
    "- 16/061\n",
    "- 16/065\n",
    "- 16/074\n",
    "- 16/080\n",
    "- 16/081\n",
    "- 24/016\n",
    "\n",
    "### Trees/Grass\n",
    "- 16/084\n",
    "- 20/036\n",
    "- 20/015\n",
    "- 20/017\n",
    "- 20/036\n",
    "- 22/036\n",
    "- 22/085\n",
    "- 26/039\n",
    "- 28/101\n",
    "- 34/056\n",
    "\n",
    "### Clouds\n",
    "- 20/003\n",
    "\n",
    "### Landscapes\n",
    "- 20/031\n",
    "- 22/020\n",
    "- 26/017\n",
    "- 28/039\n",
    "\n",
    "### Cells/Bubbles\n",
    "- 10/121\n",
    "- 14/027\n",
    "- 16/076\n",
    "- 22/017\n",
    "- 22/109\n",
    "- 28/027\n",
    "- 28/108\n",
    "- 32/032\n",
    "- 38/025\n",
    "- 38/056\n",
    "- 40/081\n",
    "- 40/088\n",
    "- 46/050\n",
    "- 46/095\n",
    "- 58/111\n",
    "\n",
    "### Cylindrical Things\n",
    "- 26/032\n",
    "- 28/034\n",
    "- 28/068\n",
    "- 34/084\n",
    "- 34/128\n",
    "- 38/005\n",
    "- 38/030\n",
    "- 42/014\n",
    "- 44/123\n",
    "- 46/010\n",
    "- 46/090\n",
    "- 46/122\n",
    "\n",
    "### Psy Waves\n",
    "- 10/023\n",
    "- 10/054\n",
    "- 10/073\n",
    "- 16/017\n",
    "- 16/032\n",
    "- 16/047\n",
    "- 16/082\n",
    "- 16/091\n",
    "- 20/001\n",
    "- 20/009 (fractally)\n",
    "- 22/006 (folds)\n",
    "- 22/042\n",
    "- 26/006\n",
    "\n",
    "### Glowing Cosmos\n",
    "- 10/109\n",
    "- 14/055\n",
    "- 20/020\n",
    "- 20/037\n",
    "- 22/065\n",
    "- 26/022\n",
    "- 26/038\n",
    "- 26/058\n",
    "- 28/005\n",
    "- 32/053\n",
    "- 34/008\n",
    "- 34/016\n",
    "- 34/063\n",
    "- 38/012\n",
    "- 40/048\n",
    "- 44/023\n",
    "- 50/101 (underwater)\n",
    "- 50/109 (underwater)\n",
    "- 58/011\n",
    "- 58/062\n",
    "\n",
    "### Arches/Cathedrals/Pagodas\n",
    "- 20/048\n",
    "- 22/035\n",
    "- 32/029\n",
    "- 32/061\n",
    "- 34/002\n",
    "- 34/043\n",
    "- 34/065\n",
    "- 34/066\n",
    "- 34/114\n",
    "- 34/137\n",
    "- 38/016\n",
    "\n",
    "### Animal Patterning\n",
    "- 28/073 (snake)\n",
    "- 32/017 (feathers)\n",
    "- 32/018 (feathers)\n",
    "- 32/050\n",
    "- 32/060 (coral)\n",
    "- 34/016 (fish)\n",
    "- 34/086 (snake)\n",
    "- 34/088 (snake)\n",
    "- 34/089 (scaley)\n",
    "- 34/113 (feathers)\n",
    "- 36/011 (feathers)\n",
    "- 38/032\n",
    "- 38/057\n",
    "- 40/124\n",
    "- 42/012\n",
    "- 46/045\n",
    "- 50/101\n",
    "- 50/109\n",
    "- 52/028\n",
    "- 52/060\n",
    "- 52/076 (coral)\n",
    "- 52/188\n",
    "- 58/012\n",
    "- 58/018\n",
    "- 58/043 (snake)\n",
    "- 58/107 (snake)\n",
    "\n",
    "### Pressed Liquid/Watercolors\n",
    "- 22/025\n",
    "- 22/066\n",
    "- 26/048\n",
    "- 32/026\n",
    "- 32/062\n",
    "- 34/041\n",
    "- 34/090\n",
    "\n",
    "### Other\n",
    "- 38/013 (wolf?)\n",
    "- 44/100 (vehicles)\n",
    "\n",
    "### Possibly Interesting Objects\n",
    "- waterfall\n",
    "- fire/flame\n",
    "- cracked glass\n",
    "- rice paddies\n",
    "- cliff face\n",
    "- beaded water drops"
   ]
  }
 ],
 "metadata": {
  "kernelspec": {
   "display_name": "Python 2",
   "language": "python",
   "name": "python2"
  },
  "language_info": {
   "codemirror_mode": {
    "name": "ipython",
    "version": 2
   },
   "file_extension": ".py",
   "mimetype": "text/x-python",
   "name": "python",
   "nbconvert_exporter": "python",
   "pygments_lexer": "ipython2",
   "version": "2.7.6"
  }
 },
 "nbformat": 4,
 "nbformat_minor": 0
}
