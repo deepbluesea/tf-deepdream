{
 "cells": [
  {
   "cell_type": "markdown",
   "metadata": {},
   "source": [
    "## Setup"
   ]
  },
  {
   "cell_type": "code",
   "execution_count": 3,
   "metadata": {
    "collapsed": false
   },
   "outputs": [],
   "source": [
    "# boilerplate code\n",
    "import os\n",
    "from io import BytesIO\n",
    "import numpy as np\n",
    "import time\n",
    "import PIL.Image\n",
    "import imageio\n",
    "from IPython.display import clear_output, Image, display\n",
    "from __future__ import print_function\n",
    "\n",
    "import tensorflow as tf\n",
    "\n",
    "model_fn = 'tensorflow_inception_graph.pb'\n",
    "\n",
    "# creating TensorFlow session and loading the model\n",
    "graph = tf.Graph()\n",
    "sess = tf.InteractiveSession(graph=graph)\n",
    "\n",
    "with tf.gfile.FastGFile(model_fn, 'rb') as f:\n",
    "    # create an empty GraphDef object; this is the object we'll populate w/ data from the file\n",
    "    graph_def = tf.GraphDef()\n",
    "    # read binary data (different protocol for textual GraphDef objects); graph_def now contains\n",
    "    # operations to be imported into the default graph\n",
    "    graph_def.ParseFromString(f.read())\n",
    "    \n",
    "# define the input tensor\n",
    "t_input = tf.placeholder(np.float32, name='input') \n",
    "# ?\n",
    "imagenet_mean = 117.0\n",
    "# subtract mean from all input data\n",
    "t_preprocessed = tf.expand_dims(t_input-imagenet_mean, 0)\n",
    "# import graph_def into the Python Graph; second argument is dictionary mapping input names in\n",
    "# graph_def to Tensor objects\n",
    "tf.import_graph_def(graph_def, {'input':t_preprocessed})"
   ]
  },
  {
   "cell_type": "markdown",
   "metadata": {},
   "source": [
    "## Helper Functions"
   ]
  },
  {
   "cell_type": "code",
   "execution_count": 4,
   "metadata": {
    "collapsed": true
   },
   "outputs": [],
   "source": [
    "def showarray(a, fmt='jpeg'):\n",
    "    a = np.uint8(np.clip(a, 0, 1)*255)\n",
    "    # create an empty (?) file object\n",
    "    f = BytesIO()\n",
    "    # save array to file object\n",
    "    PIL.Image.fromarray(a).save(f, fmt)\n",
    "    display(Image(data=f.getvalue()))\n",
    "\n",
    "def T(layer):\n",
    "    '''Helper for getting layer output tensor'''\n",
    "    return graph.get_tensor_by_name(\"%s:0\"%layer)\n",
    "\n",
    "# Helper functions that use TF to resize an image\n",
    "def tffunc(*argtypes):\n",
    "    '''Helper that transforms TF-graph generating function into a regular one.\n",
    "    See \"resize\" function below.\n",
    "    '''\n",
    "    placeholders = list(map(tf.placeholder, argtypes))\n",
    "    def wrap(f):\n",
    "        out = f(*placeholders)\n",
    "        def wrapper(*args, **kw):\n",
    "            return out.eval(dict(zip(placeholders, args)), session=kw.get('session'))\n",
    "        return wrapper\n",
    "    return wrap\n",
    "\n",
    "def resize(img, size):\n",
    "    img = tf.expand_dims(img, 0)\n",
    "    return tf.image.resize_bilinear(img, size)[0,:,:,:]\n",
    "resize = tffunc(np.float32, np.int32)(resize)\n",
    "\n",
    "def calc_grad_tiled(img, t_grad, tile_size=512):\n",
    "    '''Compute the value of tensor t_grad over the image in a tiled way.\n",
    "    Random shifts are applied to the image to blur tile boundaries over \n",
    "    multiple iterations.'''\n",
    "    sz = tile_size\n",
    "    h, w = img.shape[:2]\n",
    "    sx, sy = np.random.randint(sz, size=2)\n",
    "    img_shift = np.roll(np.roll(img, sx, 1), sy, 0)\n",
    "    grad = np.zeros_like(img)\n",
    "    for y in range(0, max(h-sz//2, sz),sz):\n",
    "        for x in range(0, max(w-sz//2, sz),sz):\n",
    "            sub = img_shift[y:y+sz,x:x+sz]\n",
    "            g = sess.run(t_grad, {t_input:sub})\n",
    "            grad[y:y+sz,x:x+sz] = g\n",
    "    return np.roll(np.roll(grad, -sx, 1), -sy, 0)\n",
    "\n",
    "def stdize(a, s=0.1):\n",
    "    '''Normalize the image range for visualization'''\n",
    "    return (a-a.mean())/max(a.std(), 1e-4)*s + 0.5"
   ]
  },
  {
   "cell_type": "markdown",
   "metadata": {},
   "source": [
    "## Deep Dream"
   ]
  },
  {
   "cell_type": "code",
   "execution_count": 5,
   "metadata": {
    "collapsed": false
   },
   "outputs": [],
   "source": [
    "def render_deepdream(t_obj, img0, disp=True,\n",
    "                     iter_n=10, step=1.5, octave_n=4, octave_scale=1.4):\n",
    "    t_score = tf.reduce_mean(t_obj) # defining the optimization objective\n",
    "    t_grad = tf.gradients(t_score, t_input)[0] # behold the power of automatic differentiation!\n",
    "\n",
    "    # split the image into a number of octaves\n",
    "    img = img0\n",
    "    octaves = []\n",
    "    if disp:\n",
    "        print(\"Splitting image into octaves ...\")\n",
    "        \n",
    "    for i in range(octave_n-1):\n",
    "        hw = img.shape[:2]\n",
    "        lo = resize(img, np.int32(np.float32(hw)/octave_scale))\n",
    "        hi = img-resize(lo, hw)\n",
    "        img = lo\n",
    "        octaves.append(hi)\n",
    "    \n",
    "    # generate details octave by octave\n",
    "    for octave in range(octave_n):\n",
    "        if octave>0:\n",
    "            hi = octaves[-octave]\n",
    "            img = resize(img, hi.shape[:2])+hi\n",
    "            \n",
    "#         if octave == 0:\n",
    "#             iters = 1 * iter_n\n",
    "#         elif octave == 1:\n",
    "#             iters = 1 * iter_n\n",
    "#         elif octave == octave_n - 2:\n",
    "#             iters = iter_n / 1\n",
    "#         elif octave == octave_n - 1:\n",
    "#             iters = 0 #iter_n / 1\n",
    "                \n",
    "        for i in range(iter_n):\n",
    "            g = calc_grad_tiled(img, t_grad)\n",
    "            img += g*(step / (np.abs(g).mean()+1e-7))\n",
    "            if disp:\n",
    "                print('.',end = ' ')\n",
    "\n",
    "        if disp:\n",
    "            clear_output()\n",
    "            showarray(img/255.0)\n",
    "        \n",
    "    return img"
   ]
  },
  {
   "cell_type": "markdown",
   "metadata": {},
   "source": [
    "## Single Filter Example"
   ]
  },
  {
   "cell_type": "code",
   "execution_count": 52,
   "metadata": {
    "collapsed": false,
    "scrolled": true
   },
   "outputs": [
    {
     "name": "stdout",
     "output_type": "stream",
     "text": [
      "Downsampling frames\n",
      "Frame 753 of 753\n",
      "\n",
      "Done!\n"
     ]
    }
   ],
   "source": [
    "# get network info\n",
    "layers = [op.name for op in graph.get_operations() if op.type=='Conv2D' and 'import/' in op.name]\n",
    "features = [int(graph.get_tensor_by_name(name+':0').get_shape()[-1]) for name in layers]\n",
    "\n",
    "# import movie data\n",
    "# video = imageio.get_reader('/media/data/Dropbox/image-play/source/videos/test_0.mp4' ,'ffmpeg')\n",
    "video = imageio.mimread('/media/data/Dropbox/image-play/source/videos/test_1.mp4', memtest=False)\n",
    "\n",
    "# user variables\n",
    "saving = 1                 # 1 to save\n",
    "layer_nums = [10] \n",
    "feature_nums = [0]\n",
    "num_frames_cutoff = 0\n",
    "num_skips = 1\n",
    "downsample_fac = 2\n",
    "\n",
    "# first iteration base frame\n",
    "img_base = video[0]\n",
    "hw = img_base.shape[:2]\n",
    "hw = np.int32(np.floor(np.float32(hw)/downsample_fac))\n",
    "\n",
    "# downsample frames\n",
    "print('Downsampling frames')\n",
    "for i, img0 in enumerate(video):\n",
    "    video[i] = resize(video[i], hw)\n",
    "    \n",
    "img_base = video[0]\n",
    "\n",
    "# store processed images\n",
    "dir_path = '/home/mattw/Desktop/test_movie'  \n",
    "file_name = 'dd_vid_test1.mp4'\n",
    "file_path = '/'.join([dir_path, file_name])\n",
    "writer = imageio.get_writer(file_path, fps=30)\n",
    "\n",
    "for i, img0 in enumerate(video):\n",
    "    \n",
    "    print('\\rFrame %03i of %03i' % (i+1, len(video)), end=\"\")\n",
    "\n",
    "    if i < 90:\n",
    "        base_multiplier = 0.2\n",
    "        # 0.1 - large increase in color saturation, good stability of features\n",
    "        # 0.5 - decent tradeoff between saturation and stability\n",
    "        # 0.9 - color saturation stays nice, stability of features pretty bad\n",
    "\n",
    "        # use a convex combination of base image and previous output to maintain feature continuity\n",
    "        img0 = (1-base_multiplier)*img0 + base_multiplier*img_base\n",
    "\n",
    "        # for consistency between frames\n",
    "        np.random.seed(0)\n",
    "\n",
    "        # run deep dream\n",
    "        img = render_deepdream(T(layers[layer_nums[0]])[:,:,:,feature_nums[0]], \\\n",
    "                               img0, iter_n=10, octave_n=2, disp=False, octave_scale=1.4) # 20, 4, 1.4\n",
    "        img_base = img\n",
    "    #     imgs0.append(img)\n",
    "    #     imgs1.append(np.uint8(np.clip(img, 0, 255)))\n",
    "\n",
    "#         if saving:\n",
    "#             dir_path = '/home/mattw/Desktop/test_movie'  \n",
    "#             file_name = 'dd_vid_test1_%03i.jpg' % i\n",
    "#             file_path = '/'.join([dir_path, file_name])\n",
    "#             img = np.uint8(np.clip(img, 0, 255))\n",
    "#             PIL.Image.fromarray(img).save(file_path, 'jpeg')\n",
    "        if saving:\n",
    "            img = np.uint8(np.clip(img, 0, 255))\n",
    "            writer.append_data(img)\n",
    "\n",
    "writer.close()\n",
    "print('\\n\\nDone!')\n",
    "\n",
    "# to make an mp4\n",
    "# if saving:\n",
    "#     dir_path = '/home/mattw/Desktop/test_sierra'  \n",
    "#     file_name = 'dd_vid_test0.jpg'\n",
    "#     file_path = '/'.join([dir_path, feature_name])\n",
    "# #     img = np.uint8(np.clip(img, 0, 255))\n",
    "#     imageio.mimwrite(file_name, imgs[num_frames_cufoff:num_skips:])\n",
    "    "
   ]
  },
  {
   "cell_type": "code",
   "execution_count": 46,
   "metadata": {
    "collapsed": false
   },
   "outputs": [],
   "source": [
    "dir_path = '/home/mattw/Desktop'  \n",
    "file_name = 'dd_vid_test0.mp4'\n",
    "file_path = '/'.join([dir_path, file_name])\n",
    "imageio.mimwrite(file_name, imgs0, format='mp4', fps=30)"
   ]
  },
  {
   "cell_type": "markdown",
   "metadata": {},
   "source": [
    "## Single Filter Playground"
   ]
  },
  {
   "cell_type": "code",
   "execution_count": null,
   "metadata": {
    "collapsed": true
   },
   "outputs": [],
   "source": [
    "# get network info\n",
    "layers = [op.name for op in graph.get_operations() if op.type=='Conv2D' and 'import/' in op.name]\n",
    "features = [int(graph.get_tensor_by_name(name+':0').get_shape()[-1]) for name in layers]\n",
    "\n",
    "# import image\n",
    "# to downsample with ImageMagick: convert {source} -resize X% {output}\n",
    "# img0 = PIL.Image.open('/home/mattw/Dropbox/deep-dream/source/trees/osa_island.jpg')\n",
    "# img0 = PIL.Image.open('/media/data/Dropbox/deep-dream/source/snow/sierra_in_snow.jpg')\n",
    "img0 = PIL.Image.open('/media/data/Dropbox/deep-dream/source/abstract/tubes_01.jpg')\n",
    "img0 = np.float32(img0)\n",
    "showarray(img0/255.0)\n",
    "\n",
    "layer = layers[10]\n",
    "feature_num = 0\n",
    "# tubes_00 - 10/10, 20/9, 26/22, 28/27, 22/101, 14/55, *20/37*\n",
    "# tubes_01 - 14/38, 22/11, 22/62, *10/0*, *10/65*\n",
    "# run deep dream; more iterations intensifies features, more octaves increases their size\n",
    "img = render_deepdream(T(layer)[:,:,:,feature_num], img0, iter_n=40, octave_n=4, octave_scale=1.4)"
   ]
  }
 ],
 "metadata": {
  "kernelspec": {
   "display_name": "Python 2",
   "language": "python",
   "name": "python2"
  },
  "language_info": {
   "codemirror_mode": {
    "name": "ipython",
    "version": 2
   },
   "file_extension": ".py",
   "mimetype": "text/x-python",
   "name": "python",
   "nbconvert_exporter": "python",
   "pygments_lexer": "ipython2",
   "version": "2.7.12"
  }
 },
 "nbformat": 4,
 "nbformat_minor": 0
}
