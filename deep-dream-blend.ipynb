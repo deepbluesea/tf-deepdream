{
 "cells": [
  {
   "cell_type": "markdown",
   "metadata": {},
   "source": [
    "## Setup"
   ]
  },
  {
   "cell_type": "code",
   "execution_count": 1,
   "metadata": {
    "collapsed": false
   },
   "outputs": [],
   "source": [
    "# boilerplate code\n",
    "import os\n",
    "from io import BytesIO\n",
    "import numpy as np\n",
    "import time\n",
    "import PIL.Image\n",
    "from IPython.display import clear_output, Image, display\n",
    "from __future__ import print_function\n",
    "\n",
    "import tensorflow as tf\n",
    "\n",
    "model_fn = 'tensorflow_inception_graph.pb'\n",
    "\n",
    "# creating TensorFlow session and loading the model\n",
    "graph = tf.Graph()\n",
    "sess = tf.InteractiveSession(graph=graph)\n",
    "\n",
    "with tf.gfile.FastGFile(model_fn, 'rb') as f:\n",
    "    # create an empty GraphDef object; this is the object we'll populate w/ data from the file\n",
    "    graph_def = tf.GraphDef()\n",
    "    # read binary data (different protocol for textual GraphDef objects); graph_def now contains\n",
    "    # operations to be imported into the default graph\n",
    "    graph_def.ParseFromString(f.read())\n",
    "    \n",
    "# define the input tensor\n",
    "t_input = tf.placeholder(np.float32, name='input') \n",
    "# ?\n",
    "imagenet_mean = 117.0\n",
    "# subtract mean from all input data\n",
    "t_preprocessed = tf.expand_dims(t_input-imagenet_mean, 0)\n",
    "# import graph_def into the Python Graph; second argument is dictionary mapping input names in\n",
    "# graph_def to Tensor objects\n",
    "tf.import_graph_def(graph_def, {'input':t_preprocessed})"
   ]
  },
  {
   "cell_type": "markdown",
   "metadata": {},
   "source": [
    "## Helper Functions"
   ]
  },
  {
   "cell_type": "code",
   "execution_count": 56,
   "metadata": {
    "collapsed": true
   },
   "outputs": [],
   "source": [
    "def showarray(a, fmt='jpeg'):\n",
    "    a = np.uint8(np.clip(a, 0, 1)*255)\n",
    "    # create an empty (?) file object\n",
    "    f = BytesIO()\n",
    "    # save array to file object\n",
    "    PIL.Image.fromarray(a).save(f, fmt)\n",
    "    display(Image(data=f.getvalue()))\n",
    "\n",
    "def T(layer):\n",
    "    '''Helper for getting layer output tensor'''\n",
    "    return graph.get_tensor_by_name(\"%s:0\"%layer)\n",
    "\n",
    "# Helper functions that use TF to resize an image\n",
    "def tffunc(*argtypes):\n",
    "    '''Helper that transforms TF-graph generating function into a regular one.\n",
    "    See \"resize\" function below.\n",
    "    '''\n",
    "    placeholders = list(map(tf.placeholder, argtypes))\n",
    "    def wrap(f):\n",
    "        out = f(*placeholders)\n",
    "        def wrapper(*args, **kw):\n",
    "            return out.eval(dict(zip(placeholders, args)), session=kw.get('session'))\n",
    "        return wrapper\n",
    "    return wrap\n",
    "\n",
    "def resize(img, size):\n",
    "    img = tf.expand_dims(img, 0)\n",
    "    return tf.image.resize_bilinear(img, size)[0,:,:,:]\n",
    "resize = tffunc(np.float32, np.int32)(resize)\n",
    "\n",
    "def calc_grad_tiled(img, t_grad, tile_size=512):\n",
    "    '''Compute the value of tensor t_grad over the image in a tiled way.\n",
    "    Random shifts are applied to the image to blur tile boundaries over \n",
    "    multiple iterations.'''\n",
    "    sz = tile_size\n",
    "    h, w = img.shape[:2]\n",
    "    sx, sy = np.random.randint(sz, size=2)\n",
    "    img_shift = np.roll(np.roll(img, sx, 1), sy, 0)\n",
    "    grad = np.zeros_like(img)\n",
    "    for y in range(0, max(h-sz//2, sz),sz):\n",
    "        for x in range(0, max(w-sz//2, sz),sz):\n",
    "            sub = img_shift[y:y+sz,x:x+sz]\n",
    "            g = sess.run(t_grad, {t_input:sub})\n",
    "            grad[y:y+sz,x:x+sz] = g\n",
    "    return np.roll(np.roll(grad, -sx, 1), -sy, 0)\n",
    "\n",
    "def stdize(a, s=0.1):\n",
    "    '''Normalize the image range for visualization'''\n",
    "    return (a-a.mean())/max(a.std(), 1e-4)*s + 0.5"
   ]
  },
  {
   "cell_type": "markdown",
   "metadata": {},
   "source": [
    "## Deep Dream"
   ]
  },
  {
   "cell_type": "code",
   "execution_count": 76,
   "metadata": {
    "collapsed": false
   },
   "outputs": [],
   "source": [
    "def render_deepdream(t_obj, img0, disp=True,\n",
    "                     iter_n=10, step=1.5, octave_n=4, octave_scale=1.4):\n",
    "    t_score = tf.reduce_mean(t_obj) # defining the optimization objective\n",
    "    t_grad = tf.gradients(t_score, t_input)[0] # behold the power of automatic differentiation!\n",
    "\n",
    "    # split the image into a number of octaves\n",
    "    img = img0\n",
    "    octaves = []\n",
    "    if disp:\n",
    "        print(\"Splitting image into octaves ...\")\n",
    "        \n",
    "    for i in range(octave_n-1):\n",
    "        hw = img.shape[:2]\n",
    "        lo = resize(img, np.int32(np.float32(hw)/octave_scale))\n",
    "        hi = img-resize(lo, hw)\n",
    "        img = lo\n",
    "        octaves.append(hi)\n",
    "    \n",
    "    # generate details octave by octave\n",
    "    for octave in range(octave_n):\n",
    "        if octave>0:\n",
    "            hi = octaves[-octave]\n",
    "            img = resize(img, hi.shape[:2])+hi\n",
    "            \n",
    "#         if octave == 0:\n",
    "#             iters = 1 * iter_n\n",
    "#         elif octave == 1:\n",
    "#             iters = 1 * iter_n\n",
    "#         elif octave == octave_n - 2:\n",
    "#             iters = iter_n / 1\n",
    "#         elif octave == octave_n - 1:\n",
    "#             iters = 0 #iter_n / 1\n",
    "                \n",
    "        for i in range(iter_n):\n",
    "            g = calc_grad_tiled(img, t_grad)\n",
    "            img += g*(step / (np.abs(g).mean()+1e-7))\n",
    "            if disp:\n",
    "                print('.',end = ' ')\n",
    "\n",
    "        if disp:\n",
    "            clear_output()\n",
    "            showarray(img/255.0)\n",
    "        \n",
    "    return img"
   ]
  },
  {
   "cell_type": "markdown",
   "metadata": {},
   "source": [
    "## Single Filter Example"
   ]
  },
  {
   "cell_type": "code",
   "execution_count": 84,
   "metadata": {
    "collapsed": true
   },
   "outputs": [
    {
     "name": "stdout",
     "output_type": "stream",
     "text": [
      "[ 1.  1.  1.  1.  1.  1.  1.  1.  1.  1.  1.  1.  1.  1.  1.  1.  1.  1.\n",
      "  1.  1.]\n"
     ]
    }
   ],
   "source": [
    "print(np.ones(np.floor(num_frames/8)))"
   ]
  },
  {
   "cell_type": "code",
   "execution_count": 89,
   "metadata": {
    "collapsed": false,
    "scrolled": true
   },
   "outputs": [
    {
     "name": "stdout",
     "output_type": "stream",
     "text": [
      "Frame 168 of 168\n",
      "\n",
      "Done!\n"
     ]
    }
   ],
   "source": [
    "# get network info\n",
    "layers = [op.name for op in graph.get_operations() if op.type=='Conv2D' and 'import/' in op.name]\n",
    "features = [int(graph.get_tensor_by_name(name+':0').get_shape()[-1]) for name in layers]\n",
    "\n",
    "# import image\n",
    "img_base = PIL.Image.open('/media/data/Dropbox/deep-dream/trees/osa_island.jpg')\n",
    "# img0 = PIL.Image.open('/media/data/Dropbox/deep-dream/snow/sierra_in_snow.jpg')\n",
    "# img0 = PIL.Image.open('/media/data/Dropbox/deep-dream/fireworks/P7041583.JPG')\n",
    "img_base = np.float32(img_base)\n",
    "# img_base = 3*(stdize(img_base)-0.5)+0.5\n",
    "img0 = img_base\n",
    "\n",
    "# user variables\n",
    "saving = 1                 # 1 to save\n",
    "layer_nums = [22, 32] \n",
    "feature_nums = [101, 26]\n",
    "num_frames = 150           # number of frames for transition from one filter to the next\n",
    "num_frames_cutoff = 50     # get rid of a certain number of beginning frames (more variation here)\n",
    "\n",
    "T_layers = []\n",
    "for layer_num in layer_nums:\n",
    "    T_layers.append(layers[layer_num])\n",
    "    \n",
    "weights = []\n",
    "temp = np.linspace(0.0, 1.0, num=num_frames)\n",
    "temp = np.append(temp, np.ones(np.floor(num_frames/8)))\n",
    "weights.append(temp)\n",
    "temp = 1.0 - temp\n",
    "weights.append(temp)\n",
    "\n",
    "for i in range(weights[0].size):\n",
    "    \n",
    "    print(\"\\rFrame %03i of %03i\" % (i+1, weights[0].size), end=\"\")\n",
    "    \n",
    "    # for consistency between frames\n",
    "    np.random.seed(0)\n",
    "    \n",
    "    # run deep dream\n",
    "    img = render_deepdream(weights[0][i]*T(T_layers[0])[:,:,:,feature_nums[0]] + \\\n",
    "                           weights[1][i]*T(T_layers[1])[:,:,:,feature_nums[1]], \\\n",
    "                           img0, iter_n=40, octave_n=4, disp=False, octave_scale=1.4) # 20, 4, 1.4\n",
    "    \n",
    "    base_multiplier = 0.5\n",
    "    # 0.1 - large increase in color saturation, good stability of features\n",
    "    # 0.5 - decent tradeoff between saturation and stability\n",
    "    # 0.9 - color saturation stays nice, stability of features pretty bad\n",
    "\n",
    "    # use a convex combination of base image and previous output to maintain feature continuity\n",
    "    img0 = (1-base_multiplier)*img + base_multiplier*img_base\n",
    "    \n",
    "    # save output\n",
    "    if saving & (i >= num_frames_cutoff):\n",
    "        dir_path = '/home/mattw/Desktop/test2'  \n",
    "        feature_name = 'frame_l%03i.jpg' % i\n",
    "        file_path = '/'.join([dir_path, feature_name])\n",
    "        img = np.uint8(np.clip(img, 0, 255)) \n",
    "        PIL.Image.fromarray(img).save(file_path, 'jpeg')\n",
    "        \n",
    "print('\\n\\nDone!')\n",
    "\n",
    "# to make a gif:\n",
    "# cd to the directory containing the images\n",
    "#   mogrify -despeckle *.jpg\n",
    "#   convert -delay 4x120 -loop 0 *.jpg animated.gif\n",
    "#   convert animated.gif -coalesce -duplicate 1,-2-1 -quiet -layers OptimizePlus -loop 0 cycle.gif"
   ]
  },
  {
   "cell_type": "code",
   "execution_count": null,
   "metadata": {
    "collapsed": true
   },
   "outputs": [],
   "source": [
    "print(saving)"
   ]
  },
  {
   "cell_type": "markdown",
   "metadata": {},
   "source": [
    "## ImageMagick Commands"
   ]
  },
  {
   "cell_type": "markdown",
   "metadata": {},
   "source": [
    "### to downsample a single image:\n",
    "convert {source} -resize X% {output}\n",
    "\n",
    "### to batch downsample an entire directory:\n",
    "mogrify -path full/path/to/temp -resize 60x60% -quality 60 -format jpg *.png\n",
    "take all pngs in current directory, resize them by 60%, set quality to 60, format to jpg, and output to full/path/to/temp\n",
    "\n",
    "### to batch denoise an entire directory\n",
    "mogrify -despeckle *.jpg\n",
    "### for a single image\n",
    "convert -despeckle image.jpg new_image.jpg\n",
    "\n",
    "### create gif:\n",
    "convert -delay 4x120 -loop 0 *.jpg animated.gif\n",
    "take all jpgs in current directory and turn them into a gif that loops indefinitely, with a framerate of 120/4 = 30 fps\n",
    "\n",
    "### set up patrol cycle\n",
    "convert animated.gif -coalesce -duplicate 1,-2-1 -quiet -layers OptimizePlus -loop 0 cycle.gif\n",
    "no idea what's really going on here. Takes \"animated.gif\" and duplicates all frames once except first and last (that's somehow encoded in 1,-2-1), loops the result indefintely, and outputs to cycle.gif"
   ]
  }
 ],
 "metadata": {
  "kernelspec": {
   "display_name": "Python 2",
   "language": "python",
   "name": "python2"
  },
  "language_info": {
   "codemirror_mode": {
    "name": "ipython",
    "version": 2
   },
   "file_extension": ".py",
   "mimetype": "text/x-python",
   "name": "python",
   "nbconvert_exporter": "python",
   "pygments_lexer": "ipython2",
   "version": "2.7.12"
  }
 },
 "nbformat": 4,
 "nbformat_minor": 0
}
